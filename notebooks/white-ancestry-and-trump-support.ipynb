{
 "cells": [
  {
   "cell_type": "markdown",
   "metadata": {},
   "source": [
    "# Analysis of White Ancestry and 2016 Candidate Preference\n",
    "\n",
    "Between September 22 and October 2 (notably, before the bombshell video of Trump making lewd comments about women), as part of its regular online political poll, the survey firm Morning Consult asked more than 5,000 registered voters to check which of the most common ancestry categories recorded by the Census Bureau applied to them, and also to pick the one ancestry they identified with most. Below, you can find BuzzFeed News' analysis of the results."
   ]
  },
  {
   "cell_type": "code",
   "execution_count": 1,
   "metadata": {
    "collapsed": true
   },
   "outputs": [],
   "source": [
    "import pandas as pd\n",
    "from collections import OrderedDict"
   ]
  },
  {
   "cell_type": "code",
   "execution_count": 2,
   "metadata": {
    "collapsed": false
   },
   "outputs": [
    {
     "name": "stdout",
     "output_type": "stream",
     "text": [
      "5365 total responses\n"
     ]
    }
   ],
   "source": [
    "data = pd.read_csv(\"../data/BUZZFEED_DATA.csv\", encoding=\"latin-1\")\n",
    "print(\"{0} total responses\".format(len(data)))"
   ]
  },
  {
   "cell_type": "markdown",
   "metadata": {},
   "source": [
    "## Label variables\n",
    "\n",
    "The raw data uses numeric codes; here, we translate them into names."
   ]
  },
  {
   "cell_type": "code",
   "execution_count": 3,
   "metadata": {
    "collapsed": true
   },
   "outputs": [],
   "source": [
    "data[\"demRace_label\"] = data[\"demRace\"].apply(OrderedDict([\n",
    "    (1, \"American Indian\"),  \n",
    "    (2, \"Asian American\"),  \n",
    "    (3, \"Black\"),  \n",
    "    (4, \"White\"),  \n",
    "    (5, \"Other\"),  \n",
    "]).get).fillna(\"[n/a]\")"
   ]
  },
  {
   "cell_type": "code",
   "execution_count": 4,
   "metadata": {
    "collapsed": true
   },
   "outputs": [],
   "source": [
    "data[\"BF2_label\"] = data[\"BF2\"].apply(dict([\n",
    "    (1, \"German\"),  \n",
    "    (2, \"Irish\"),  \n",
    "    (3, \"English\"),  \n",
    "    (4, \"American\"),  \n",
    "    (5, \"Italian\"),  \n",
    "    (6, \"Polish\"),  \n",
    "    (7, \"French\"),  \n",
    "    (8, \"Scottish\"),  \n",
    "    (9, \"Norwegian\"),  \n",
    "    (10, \"Dutch\"),  \n",
    "    (11, \"Swedish\"),  \n",
    "    (12, \"Other\"),\n",
    "]).get).fillna(\"[n/a]\")"
   ]
  },
  {
   "cell_type": "code",
   "execution_count": 5,
   "metadata": {
    "collapsed": true
   },
   "outputs": [],
   "source": [
    "data[\"v16g5_label\"] = data[\"v16g5\"].apply(OrderedDict([\n",
    "    (1, \"Clinton\"),\n",
    "    (2, \"Trump\"),\n",
    "    (3, \"Don't Know / No Opinion\")\n",
    "]).get).fillna(\"[n/a]\")"
   ]
  },
  {
   "cell_type": "code",
   "execution_count": 6,
   "metadata": {
    "collapsed": true
   },
   "outputs": [],
   "source": [
    "data[\"v16g18_label\"] = data[\"v16g18\"].apply(OrderedDict([\n",
    "    (1, \"Democratic candidate\"),\n",
    "    (2, \"Republican candidate\"),\n",
    "    (3, \"Don't Know / No Opinion\")\n",
    "]).get).fillna(\"[n/a]\")"
   ]
  },
  {
   "cell_type": "code",
   "execution_count": 7,
   "metadata": {
    "collapsed": true
   },
   "outputs": [],
   "source": [
    "data[\"nr2_label\"] = data[\"nr2\"].apply(OrderedDict([\n",
    "    (1, \"Strongly Approve\"),\n",
    "    (2, \"Somewhat Approve\"),\n",
    "    (3, \"Somewhat Disapprove\"),\n",
    "    (4, \"Strongly Disapprove\"),\n",
    "    (5, \"Don’t Know / No Opinion\"),\n",
    "]).get).fillna(\"[n/a]\")"
   ]
  },
  {
   "cell_type": "code",
   "execution_count": 8,
   "metadata": {
    "collapsed": true
   },
   "outputs": [],
   "source": [
    "data[\"demPidNoLn_label\"] = data[\"demPidNoLn\"].apply(OrderedDict([\n",
    "    (1, \"Republican\"),\n",
    "    (2, \"Democrat\"),\n",
    "    (3, \"Independent\"),\n",
    "    (4, \"Something else\")\n",
    "]).get).fillna(\"[n/a]\")"
   ]
  },
  {
   "cell_type": "code",
   "execution_count": 9,
   "metadata": {
    "collapsed": true
   },
   "outputs": [],
   "source": [
    "data[\"demRelig_label\"] = data[\"demRelig\"].apply(OrderedDict([\n",
    "    (1, \"Protestant\"),\n",
    "    (2, \"Roman Catholic\"),\n",
    "    (3, \"Mormon\"),\n",
    "    (4, \"Orthodox\"),\n",
    "    (5, \"Jewish\"),\n",
    "    (6, \"Muslim\"),\n",
    "    (7, \"Buddhist\"),\n",
    "    (8, \"Hindu\"),\n",
    "    (9, \"Atheist\"),\n",
    "    (10, \"Agnostic\"),\n",
    "    (11, \"Something else\"),\n",
    "    (12, \"Nothing in particular\"),             \n",
    "]).get).fillna(\"[n/a]\")"
   ]
  },
  {
   "cell_type": "code",
   "execution_count": 10,
   "metadata": {
    "collapsed": true
   },
   "outputs": [],
   "source": [
    "data[\"is_protestant\"] = data[\"demRelig_label\"] == \"Protestant\""
   ]
  },
  {
   "cell_type": "code",
   "execution_count": 11,
   "metadata": {
    "collapsed": true
   },
   "outputs": [],
   "source": [
    "data[\"is_senior\"] = data[\"demAgeFull\"] >= 49 # code `49` corresponds to age 65"
   ]
  },
  {
   "cell_type": "markdown",
   "metadata": {},
   "source": [
    "## Set up demographic groups"
   ]
  },
  {
   "cell_type": "code",
   "execution_count": 12,
   "metadata": {
    "collapsed": true
   },
   "outputs": [],
   "source": [
    "data[\"ident_german\"] = data[\"BF1_4NET\"] == 1\n",
    "data[\"ident_irish\"] = data[\"BF1_5NET\"] == 1\n",
    "data[\"ident_english\"] = data[\"BF1_6NET\"] == 1\n",
    "data[\"ident_american\"] = data[\"BF1_7NET\"] == 1\n",
    "data[\"ident_italian\"] = data[\"BF1_8NET\"] == 1\n",
    "data[\"ident_scottish\"] = data[\"BF1_11NET\"] == 1"
   ]
  },
  {
   "cell_type": "code",
   "execution_count": 13,
   "metadata": {
    "collapsed": true
   },
   "outputs": [],
   "source": [
    "data_white = data[data[\"demRace_label\"] == \"White\"]"
   ]
  },
  {
   "cell_type": "code",
   "execution_count": 14,
   "metadata": {
    "collapsed": false
   },
   "outputs": [],
   "source": [
    "demographic_groups = OrderedDict([\n",
    "    (\"Men\", data[data[\"demGender\"] == 1]),\n",
    "    (\"Women\", data[data[\"demGender\"] == 2]),\n",
    "    (\"Black\", data[data[\"demRace_label\"] == \"Black\"]),\n",
    "    (\"Hispanic\", data[data[\"demHisp\"] == 1]),\n",
    "    (\"White\", data_white),\n",
    "    (\"White non-Hispanic\", data_white[data_white[\"demHisp\"] != 1]),\n",
    "    (\"White American [any]\", data_white[data_white[\"ident_american\"]]),\n",
    "    (\"White American [most]\", data_white[data_white[\"BF2_label\"] == \"American\"]),\n",
    "    (\"White German [any]\", data_white[data_white[\"ident_german\"]]),\n",
    "    (\"White German [most]\", data_white[data_white[\"BF2_label\"] == \"German\"]),\n",
    "    (\"White English [any]\", data_white[data_white[\"ident_english\"]]),\n",
    "    (\"White English [most]\", data_white[data_white[\"BF2_label\"] == \"English\"]),\n",
    "    (\"White Scottish [any]\", data_white[data_white[\"ident_scottish\"]]),\n",
    "    (\"White Scottish [most]\", data_white[data_white[\"BF2_label\"] == \"Scottish\"]),\n",
    "    (\"White Irish [any]\", data_white[data_white[\"ident_irish\"]]),\n",
    "    (\"White Irish [most]\", data_white[data_white[\"BF2_label\"] == \"Irish\"]),\n",
    "    (\"White Italian [any]\", data_white[data_white[\"ident_italian\"]]),\n",
    "    (\"White Italian [most]\", data_white[data_white[\"BF2_label\"] == \"Italian\"]),\n",
    "])"
   ]
  },
  {
   "cell_type": "markdown",
   "metadata": {},
   "source": [
    "## Set up calculations"
   ]
  },
  {
   "cell_type": "code",
   "execution_count": 15,
   "metadata": {
    "collapsed": true
   },
   "outputs": [],
   "source": [
    "def get_counts(grouped):\n",
    "    return grouped.size().unstack().fillna(0)[CANDIDATES]"
   ]
  },
  {
   "cell_type": "code",
   "execution_count": 16,
   "metadata": {
    "collapsed": true
   },
   "outputs": [],
   "source": [
    "def splits_table_maker(labels, splitter):\n",
    "    def fn(grouped):\n",
    "        x = grouped[\"wts\"].sum()\n",
    "        if hasattr(x.index, \"levels\"):\n",
    "            x = x.unstack().fillna(0)\n",
    "            table = (x.T / x.sum(axis=1)).T.round(2)[labels]\n",
    "            table[\"split\"] = table.apply(splitter, axis=1)\n",
    "        else:\n",
    "            table = (x / x.sum()).round(2)[labels]\n",
    "            table[\"split\"] = splitter(table)\n",
    "        return table\n",
    "    return fn"
   ]
  },
  {
   "cell_type": "code",
   "execution_count": 17,
   "metadata": {
    "collapsed": true
   },
   "outputs": [],
   "source": [
    "CANDIDATES = [\"Clinton\", \"Trump\", \"Don't Know / No Opinion\"]"
   ]
  },
  {
   "cell_type": "code",
   "execution_count": 18,
   "metadata": {
    "collapsed": true
   },
   "outputs": [],
   "source": [
    "def get_pres_split(row):\n",
    "    diff = row[\"Clinton\"] - row[\"Trump\"]\n",
    "    if diff == 0: return \"--\"\n",
    "    if diff > 0:\n",
    "        return \"Clinton +{0:.0f}%\".format(diff * 100)\n",
    "    if diff < 0:\n",
    "        return \"Trump +{0:.0f}%\".format(-diff * 100)"
   ]
  },
  {
   "cell_type": "code",
   "execution_count": 19,
   "metadata": {
    "collapsed": true
   },
   "outputs": [],
   "source": [
    "get_pres_weighted_splits = splits_table_maker(CANDIDATES, get_pres_split)"
   ]
  },
  {
   "cell_type": "code",
   "execution_count": 20,
   "metadata": {
    "collapsed": true
   },
   "outputs": [],
   "source": [
    "CONG_OPTIONS = [\"Democratic candidate\", \"Republican candidate\", \"Don't Know / No Opinion\"]"
   ]
  },
  {
   "cell_type": "code",
   "execution_count": 21,
   "metadata": {
    "collapsed": true
   },
   "outputs": [],
   "source": [
    "def get_cong_split(row):\n",
    "    diff = row[\"Democratic candidate\"] - row[\"Republican candidate\"]\n",
    "    if diff == 0: return \"--\"\n",
    "    if diff > 0:\n",
    "        return \"Dem. +{0:.0f}%\".format(diff * 100)\n",
    "    if diff < 0:\n",
    "        return \"Rep. +{0:.0f}%\".format(-diff * 100)"
   ]
  },
  {
   "cell_type": "code",
   "execution_count": 22,
   "metadata": {
    "collapsed": false
   },
   "outputs": [],
   "source": [
    "get_cong_weighted_splits = splits_table_maker(CONG_OPTIONS, get_cong_split)"
   ]
  },
  {
   "cell_type": "code",
   "execution_count": 23,
   "metadata": {
    "collapsed": true
   },
   "outputs": [],
   "source": [
    "OBAMA_OPTIONS = [ \n",
    "    \"Strongly Approve\", \"Somewhat Approve\", \n",
    "    \"Somewhat Disapprove\", \"Strongly Disapprove\", \n",
    "    \"Don’t Know / No Opinion\"\n",
    "]"
   ]
  },
  {
   "cell_type": "code",
   "execution_count": 24,
   "metadata": {
    "collapsed": true
   },
   "outputs": [],
   "source": [
    "def get_obama_split(row):\n",
    "    diff = (row[\"Strongly Approve\"] + row[\"Somewhat Approve\"]) - \\\n",
    "        (row[\"Somewhat Disapprove\"] + row[\"Strongly Disapprove\"])\n",
    "    if diff == 0: return \"--\"\n",
    "    if diff > 0:\n",
    "        return \"+{0:.0f}%\".format(diff * 100)\n",
    "    if diff < 0:\n",
    "        return \"-{0:.0f}%\".format(-diff * 100)"
   ]
  },
  {
   "cell_type": "code",
   "execution_count": 25,
   "metadata": {
    "collapsed": true
   },
   "outputs": [],
   "source": [
    "get_obama_weighted_splits = splits_table_maker(OBAMA_OPTIONS, get_obama_split)"
   ]
  },
  {
   "cell_type": "markdown",
   "metadata": {},
   "source": [
    "## Raw respondent counts"
   ]
  },
  {
   "cell_type": "code",
   "execution_count": 26,
   "metadata": {
    "collapsed": false
   },
   "outputs": [
    {
     "data": {
      "text/html": [
       "<div>\n",
       "<table border=\"1\" class=\"dataframe\">\n",
       "  <thead>\n",
       "    <tr style=\"text-align: right;\">\n",
       "      <th>v16g5_label</th>\n",
       "      <th>Clinton</th>\n",
       "      <th>Trump</th>\n",
       "      <th>Don't Know / No Opinion</th>\n",
       "    </tr>\n",
       "  </thead>\n",
       "  <tbody>\n",
       "    <tr>\n",
       "      <th>Men</th>\n",
       "      <td>1020</td>\n",
       "      <td>1029</td>\n",
       "      <td>419</td>\n",
       "    </tr>\n",
       "    <tr>\n",
       "      <th>Women</th>\n",
       "      <td>1268</td>\n",
       "      <td>1048</td>\n",
       "      <td>581</td>\n",
       "    </tr>\n",
       "    <tr>\n",
       "      <th>Black</th>\n",
       "      <td>348</td>\n",
       "      <td>34</td>\n",
       "      <td>59</td>\n",
       "    </tr>\n",
       "    <tr>\n",
       "      <th>Hispanic</th>\n",
       "      <td>275</td>\n",
       "      <td>112</td>\n",
       "      <td>82</td>\n",
       "    </tr>\n",
       "    <tr>\n",
       "      <th>White</th>\n",
       "      <td>1688</td>\n",
       "      <td>1906</td>\n",
       "      <td>846</td>\n",
       "    </tr>\n",
       "    <tr>\n",
       "      <th>White non-Hispanic</th>\n",
       "      <td>1512</td>\n",
       "      <td>1828</td>\n",
       "      <td>791</td>\n",
       "    </tr>\n",
       "    <tr>\n",
       "      <th>White American [any]</th>\n",
       "      <td>419</td>\n",
       "      <td>522</td>\n",
       "      <td>219</td>\n",
       "    </tr>\n",
       "    <tr>\n",
       "      <th>White American [most]</th>\n",
       "      <td>317</td>\n",
       "      <td>431</td>\n",
       "      <td>163</td>\n",
       "    </tr>\n",
       "    <tr>\n",
       "      <th>White German [any]</th>\n",
       "      <td>371</td>\n",
       "      <td>492</td>\n",
       "      <td>216</td>\n",
       "    </tr>\n",
       "    <tr>\n",
       "      <th>White German [most]</th>\n",
       "      <td>146</td>\n",
       "      <td>210</td>\n",
       "      <td>73</td>\n",
       "    </tr>\n",
       "    <tr>\n",
       "      <th>White English [any]</th>\n",
       "      <td>442</td>\n",
       "      <td>494</td>\n",
       "      <td>224</td>\n",
       "    </tr>\n",
       "    <tr>\n",
       "      <th>White English [most]</th>\n",
       "      <td>203</td>\n",
       "      <td>229</td>\n",
       "      <td>101</td>\n",
       "    </tr>\n",
       "    <tr>\n",
       "      <th>White Scottish [any]</th>\n",
       "      <td>173</td>\n",
       "      <td>192</td>\n",
       "      <td>96</td>\n",
       "    </tr>\n",
       "    <tr>\n",
       "      <th>White Scottish [most]</th>\n",
       "      <td>44</td>\n",
       "      <td>40</td>\n",
       "      <td>21</td>\n",
       "    </tr>\n",
       "    <tr>\n",
       "      <th>White Irish [any]</th>\n",
       "      <td>354</td>\n",
       "      <td>407</td>\n",
       "      <td>190</td>\n",
       "    </tr>\n",
       "    <tr>\n",
       "      <th>White Irish [most]</th>\n",
       "      <td>138</td>\n",
       "      <td>138</td>\n",
       "      <td>68</td>\n",
       "    </tr>\n",
       "    <tr>\n",
       "      <th>White Italian [any]</th>\n",
       "      <td>114</td>\n",
       "      <td>168</td>\n",
       "      <td>80</td>\n",
       "    </tr>\n",
       "    <tr>\n",
       "      <th>White Italian [most]</th>\n",
       "      <td>71</td>\n",
       "      <td>93</td>\n",
       "      <td>47</td>\n",
       "    </tr>\n",
       "  </tbody>\n",
       "</table>\n",
       "</div>"
      ],
      "text/plain": [
       "v16g5_label            Clinton  Trump  Don't Know / No Opinion\n",
       "Men                       1020   1029                      419\n",
       "Women                     1268   1048                      581\n",
       "Black                      348     34                       59\n",
       "Hispanic                   275    112                       82\n",
       "White                     1688   1906                      846\n",
       "White non-Hispanic        1512   1828                      791\n",
       "White American [any]       419    522                      219\n",
       "White American [most]      317    431                      163\n",
       "White German [any]         371    492                      216\n",
       "White German [most]        146    210                       73\n",
       "White English [any]        442    494                      224\n",
       "White English [most]       203    229                      101\n",
       "White Scottish [any]       173    192                       96\n",
       "White Scottish [most]       44     40                       21\n",
       "White Irish [any]          354    407                      190\n",
       "White Irish [most]         138    138                       68\n",
       "White Italian [any]        114    168                       80\n",
       "White Italian [most]        71     93                       47"
      ]
     },
     "execution_count": 26,
     "metadata": {},
     "output_type": "execute_result"
    }
   ],
   "source": [
    "pd.DataFrame({ k: v.groupby(\"v16g5_label\").size() \n",
    "    for k, v in demographic_groups.items() }).T\\\n",
    "    .loc[list(demographic_groups.keys())][CANDIDATES]"
   ]
  },
  {
   "cell_type": "markdown",
   "metadata": {},
   "source": [
    "## Weighted presidential splits"
   ]
  },
  {
   "cell_type": "code",
   "execution_count": 27,
   "metadata": {
    "collapsed": false,
    "scrolled": false
   },
   "outputs": [
    {
     "data": {
      "text/html": [
       "<div>\n",
       "<table border=\"1\" class=\"dataframe\">\n",
       "  <thead>\n",
       "    <tr style=\"text-align: right;\">\n",
       "      <th>v16g5_label</th>\n",
       "      <th>Clinton</th>\n",
       "      <th>Trump</th>\n",
       "      <th>Don't Know / No Opinion</th>\n",
       "      <th>split</th>\n",
       "    </tr>\n",
       "  </thead>\n",
       "  <tbody>\n",
       "    <tr>\n",
       "      <th>Men</th>\n",
       "      <td>0.41</td>\n",
       "      <td>0.42</td>\n",
       "      <td>0.17</td>\n",
       "      <td>Trump +1%</td>\n",
       "    </tr>\n",
       "    <tr>\n",
       "      <th>Women</th>\n",
       "      <td>0.45</td>\n",
       "      <td>0.35</td>\n",
       "      <td>0.2</td>\n",
       "      <td>Clinton +10%</td>\n",
       "    </tr>\n",
       "    <tr>\n",
       "      <th>Black</th>\n",
       "      <td>0.78</td>\n",
       "      <td>0.07</td>\n",
       "      <td>0.15</td>\n",
       "      <td>Clinton +71%</td>\n",
       "    </tr>\n",
       "    <tr>\n",
       "      <th>Hispanic</th>\n",
       "      <td>0.59</td>\n",
       "      <td>0.24</td>\n",
       "      <td>0.17</td>\n",
       "      <td>Clinton +35%</td>\n",
       "    </tr>\n",
       "    <tr>\n",
       "      <th>White</th>\n",
       "      <td>0.37</td>\n",
       "      <td>0.44</td>\n",
       "      <td>0.19</td>\n",
       "      <td>Trump +7%</td>\n",
       "    </tr>\n",
       "    <tr>\n",
       "      <th>White non-Hispanic</th>\n",
       "      <td>0.35</td>\n",
       "      <td>0.45</td>\n",
       "      <td>0.19</td>\n",
       "      <td>Trump +10%</td>\n",
       "    </tr>\n",
       "    <tr>\n",
       "      <th>White American [any]</th>\n",
       "      <td>0.35</td>\n",
       "      <td>0.47</td>\n",
       "      <td>0.18</td>\n",
       "      <td>Trump +12%</td>\n",
       "    </tr>\n",
       "    <tr>\n",
       "      <th>White American [most]</th>\n",
       "      <td>0.33</td>\n",
       "      <td>0.5</td>\n",
       "      <td>0.17</td>\n",
       "      <td>Trump +17%</td>\n",
       "    </tr>\n",
       "    <tr>\n",
       "      <th>White German [any]</th>\n",
       "      <td>0.34</td>\n",
       "      <td>0.47</td>\n",
       "      <td>0.19</td>\n",
       "      <td>Trump +13%</td>\n",
       "    </tr>\n",
       "    <tr>\n",
       "      <th>White German [most]</th>\n",
       "      <td>0.33</td>\n",
       "      <td>0.51</td>\n",
       "      <td>0.16</td>\n",
       "      <td>Trump +18%</td>\n",
       "    </tr>\n",
       "    <tr>\n",
       "      <th>White English [any]</th>\n",
       "      <td>0.37</td>\n",
       "      <td>0.44</td>\n",
       "      <td>0.2</td>\n",
       "      <td>Trump +7%</td>\n",
       "    </tr>\n",
       "    <tr>\n",
       "      <th>White English [most]</th>\n",
       "      <td>0.37</td>\n",
       "      <td>0.43</td>\n",
       "      <td>0.2</td>\n",
       "      <td>Trump +6%</td>\n",
       "    </tr>\n",
       "    <tr>\n",
       "      <th>White Scottish [any]</th>\n",
       "      <td>0.35</td>\n",
       "      <td>0.44</td>\n",
       "      <td>0.21</td>\n",
       "      <td>Trump +9%</td>\n",
       "    </tr>\n",
       "    <tr>\n",
       "      <th>White Scottish [most]</th>\n",
       "      <td>0.41</td>\n",
       "      <td>0.37</td>\n",
       "      <td>0.22</td>\n",
       "      <td>Clinton +4%</td>\n",
       "    </tr>\n",
       "    <tr>\n",
       "      <th>White Irish [any]</th>\n",
       "      <td>0.36</td>\n",
       "      <td>0.44</td>\n",
       "      <td>0.2</td>\n",
       "      <td>Trump +8%</td>\n",
       "    </tr>\n",
       "    <tr>\n",
       "      <th>White Irish [most]</th>\n",
       "      <td>0.39</td>\n",
       "      <td>0.4</td>\n",
       "      <td>0.2</td>\n",
       "      <td>Trump +1%</td>\n",
       "    </tr>\n",
       "    <tr>\n",
       "      <th>White Italian [any]</th>\n",
       "      <td>0.32</td>\n",
       "      <td>0.47</td>\n",
       "      <td>0.22</td>\n",
       "      <td>Trump +15%</td>\n",
       "    </tr>\n",
       "    <tr>\n",
       "      <th>White Italian [most]</th>\n",
       "      <td>0.33</td>\n",
       "      <td>0.44</td>\n",
       "      <td>0.23</td>\n",
       "      <td>Trump +11%</td>\n",
       "    </tr>\n",
       "  </tbody>\n",
       "</table>\n",
       "</div>"
      ],
      "text/plain": [
       "v16g5_label           Clinton Trump Don't Know / No Opinion         split\n",
       "Men                      0.41  0.42                    0.17     Trump +1%\n",
       "Women                    0.45  0.35                     0.2  Clinton +10%\n",
       "Black                    0.78  0.07                    0.15  Clinton +71%\n",
       "Hispanic                 0.59  0.24                    0.17  Clinton +35%\n",
       "White                    0.37  0.44                    0.19     Trump +7%\n",
       "White non-Hispanic       0.35  0.45                    0.19    Trump +10%\n",
       "White American [any]     0.35  0.47                    0.18    Trump +12%\n",
       "White American [most]    0.33   0.5                    0.17    Trump +17%\n",
       "White German [any]       0.34  0.47                    0.19    Trump +13%\n",
       "White German [most]      0.33  0.51                    0.16    Trump +18%\n",
       "White English [any]      0.37  0.44                     0.2     Trump +7%\n",
       "White English [most]     0.37  0.43                     0.2     Trump +6%\n",
       "White Scottish [any]     0.35  0.44                    0.21     Trump +9%\n",
       "White Scottish [most]    0.41  0.37                    0.22   Clinton +4%\n",
       "White Irish [any]        0.36  0.44                     0.2     Trump +8%\n",
       "White Irish [most]       0.39   0.4                     0.2     Trump +1%\n",
       "White Italian [any]      0.32  0.47                    0.22    Trump +15%\n",
       "White Italian [most]     0.33  0.44                    0.23    Trump +11%"
      ]
     },
     "execution_count": 27,
     "metadata": {},
     "output_type": "execute_result"
    }
   ],
   "source": [
    "pd.DataFrame({ k: get_pres_weighted_splits(v.groupby(\"v16g5_label\"))\n",
    "    for k, v in demographic_groups.items() }).T\\\n",
    "    .loc[list(demographic_groups.keys())]"
   ]
  },
  {
   "cell_type": "markdown",
   "metadata": {},
   "source": [
    "## Weighted congressional splits"
   ]
  },
  {
   "cell_type": "code",
   "execution_count": 28,
   "metadata": {
    "collapsed": false
   },
   "outputs": [
    {
     "data": {
      "text/html": [
       "<div>\n",
       "<table border=\"1\" class=\"dataframe\">\n",
       "  <thead>\n",
       "    <tr style=\"text-align: right;\">\n",
       "      <th>v16g18_label</th>\n",
       "      <th>Democratic candidate</th>\n",
       "      <th>Republican candidate</th>\n",
       "      <th>Don't Know / No Opinion</th>\n",
       "      <th>split</th>\n",
       "    </tr>\n",
       "  </thead>\n",
       "  <tbody>\n",
       "    <tr>\n",
       "      <th>Men</th>\n",
       "      <td>0.43</td>\n",
       "      <td>0.4</td>\n",
       "      <td>0.17</td>\n",
       "      <td>Dem. +3%</td>\n",
       "    </tr>\n",
       "    <tr>\n",
       "      <th>Women</th>\n",
       "      <td>0.43</td>\n",
       "      <td>0.34</td>\n",
       "      <td>0.23</td>\n",
       "      <td>Dem. +9%</td>\n",
       "    </tr>\n",
       "    <tr>\n",
       "      <th>Black</th>\n",
       "      <td>0.79</td>\n",
       "      <td>0.09</td>\n",
       "      <td>0.12</td>\n",
       "      <td>Dem. +70%</td>\n",
       "    </tr>\n",
       "    <tr>\n",
       "      <th>Hispanic</th>\n",
       "      <td>0.58</td>\n",
       "      <td>0.26</td>\n",
       "      <td>0.16</td>\n",
       "      <td>Dem. +32%</td>\n",
       "    </tr>\n",
       "    <tr>\n",
       "      <th>White</th>\n",
       "      <td>0.37</td>\n",
       "      <td>0.42</td>\n",
       "      <td>0.21</td>\n",
       "      <td>Rep. +5%</td>\n",
       "    </tr>\n",
       "    <tr>\n",
       "      <th>White non-Hispanic</th>\n",
       "      <td>0.35</td>\n",
       "      <td>0.43</td>\n",
       "      <td>0.22</td>\n",
       "      <td>Rep. +8%</td>\n",
       "    </tr>\n",
       "    <tr>\n",
       "      <th>White American [any]</th>\n",
       "      <td>0.35</td>\n",
       "      <td>0.42</td>\n",
       "      <td>0.22</td>\n",
       "      <td>Rep. +7%</td>\n",
       "    </tr>\n",
       "    <tr>\n",
       "      <th>White American [most]</th>\n",
       "      <td>0.34</td>\n",
       "      <td>0.43</td>\n",
       "      <td>0.23</td>\n",
       "      <td>Rep. +9%</td>\n",
       "    </tr>\n",
       "    <tr>\n",
       "      <th>White German [any]</th>\n",
       "      <td>0.33</td>\n",
       "      <td>0.47</td>\n",
       "      <td>0.2</td>\n",
       "      <td>Rep. +14%</td>\n",
       "    </tr>\n",
       "    <tr>\n",
       "      <th>White German [most]</th>\n",
       "      <td>0.31</td>\n",
       "      <td>0.51</td>\n",
       "      <td>0.18</td>\n",
       "      <td>Rep. +20%</td>\n",
       "    </tr>\n",
       "    <tr>\n",
       "      <th>White English [any]</th>\n",
       "      <td>0.37</td>\n",
       "      <td>0.44</td>\n",
       "      <td>0.19</td>\n",
       "      <td>Rep. +7%</td>\n",
       "    </tr>\n",
       "    <tr>\n",
       "      <th>White English [most]</th>\n",
       "      <td>0.36</td>\n",
       "      <td>0.44</td>\n",
       "      <td>0.2</td>\n",
       "      <td>Rep. +8%</td>\n",
       "    </tr>\n",
       "    <tr>\n",
       "      <th>White Scottish [any]</th>\n",
       "      <td>0.37</td>\n",
       "      <td>0.45</td>\n",
       "      <td>0.18</td>\n",
       "      <td>Rep. +8%</td>\n",
       "    </tr>\n",
       "    <tr>\n",
       "      <th>White Scottish [most]</th>\n",
       "      <td>0.4</td>\n",
       "      <td>0.39</td>\n",
       "      <td>0.21</td>\n",
       "      <td>Dem. +1%</td>\n",
       "    </tr>\n",
       "    <tr>\n",
       "      <th>White Irish [any]</th>\n",
       "      <td>0.39</td>\n",
       "      <td>0.43</td>\n",
       "      <td>0.19</td>\n",
       "      <td>Rep. +4%</td>\n",
       "    </tr>\n",
       "    <tr>\n",
       "      <th>White Irish [most]</th>\n",
       "      <td>0.43</td>\n",
       "      <td>0.42</td>\n",
       "      <td>0.16</td>\n",
       "      <td>Dem. +1%</td>\n",
       "    </tr>\n",
       "    <tr>\n",
       "      <th>White Italian [any]</th>\n",
       "      <td>0.31</td>\n",
       "      <td>0.44</td>\n",
       "      <td>0.24</td>\n",
       "      <td>Rep. +13%</td>\n",
       "    </tr>\n",
       "    <tr>\n",
       "      <th>White Italian [most]</th>\n",
       "      <td>0.34</td>\n",
       "      <td>0.43</td>\n",
       "      <td>0.24</td>\n",
       "      <td>Rep. +9%</td>\n",
       "    </tr>\n",
       "  </tbody>\n",
       "</table>\n",
       "</div>"
      ],
      "text/plain": [
       "v16g18_label          Democratic candidate Republican candidate  \\\n",
       "Men                                   0.43                  0.4   \n",
       "Women                                 0.43                 0.34   \n",
       "Black                                 0.79                 0.09   \n",
       "Hispanic                              0.58                 0.26   \n",
       "White                                 0.37                 0.42   \n",
       "White non-Hispanic                    0.35                 0.43   \n",
       "White American [any]                  0.35                 0.42   \n",
       "White American [most]                 0.34                 0.43   \n",
       "White German [any]                    0.33                 0.47   \n",
       "White German [most]                   0.31                 0.51   \n",
       "White English [any]                   0.37                 0.44   \n",
       "White English [most]                  0.36                 0.44   \n",
       "White Scottish [any]                  0.37                 0.45   \n",
       "White Scottish [most]                  0.4                 0.39   \n",
       "White Irish [any]                     0.39                 0.43   \n",
       "White Irish [most]                    0.43                 0.42   \n",
       "White Italian [any]                   0.31                 0.44   \n",
       "White Italian [most]                  0.34                 0.43   \n",
       "\n",
       "v16g18_label          Don't Know / No Opinion      split  \n",
       "Men                                      0.17   Dem. +3%  \n",
       "Women                                    0.23   Dem. +9%  \n",
       "Black                                    0.12  Dem. +70%  \n",
       "Hispanic                                 0.16  Dem. +32%  \n",
       "White                                    0.21   Rep. +5%  \n",
       "White non-Hispanic                       0.22   Rep. +8%  \n",
       "White American [any]                     0.22   Rep. +7%  \n",
       "White American [most]                    0.23   Rep. +9%  \n",
       "White German [any]                        0.2  Rep. +14%  \n",
       "White German [most]                      0.18  Rep. +20%  \n",
       "White English [any]                      0.19   Rep. +7%  \n",
       "White English [most]                      0.2   Rep. +8%  \n",
       "White Scottish [any]                     0.18   Rep. +8%  \n",
       "White Scottish [most]                    0.21   Dem. +1%  \n",
       "White Irish [any]                        0.19   Rep. +4%  \n",
       "White Irish [most]                       0.16   Dem. +1%  \n",
       "White Italian [any]                      0.24  Rep. +13%  \n",
       "White Italian [most]                     0.24   Rep. +9%  "
      ]
     },
     "execution_count": 28,
     "metadata": {},
     "output_type": "execute_result"
    }
   ],
   "source": [
    "pd.DataFrame({ k: get_cong_weighted_splits(v.groupby(\"v16g18_label\"))\n",
    "    for k, v in demographic_groups.items() }).T\\\n",
    "    .loc[list(demographic_groups.keys())]"
   ]
  },
  {
   "cell_type": "markdown",
   "metadata": {},
   "source": [
    "## Weighted Obama approval splits"
   ]
  },
  {
   "cell_type": "code",
   "execution_count": 29,
   "metadata": {
    "collapsed": false
   },
   "outputs": [
    {
     "data": {
      "text/html": [
       "<div>\n",
       "<table border=\"1\" class=\"dataframe\">\n",
       "  <thead>\n",
       "    <tr style=\"text-align: right;\">\n",
       "      <th>nr2_label</th>\n",
       "      <th>Strongly Approve</th>\n",
       "      <th>Somewhat Approve</th>\n",
       "      <th>Somewhat Disapprove</th>\n",
       "      <th>Strongly Disapprove</th>\n",
       "      <th>Don’t Know / No Opinion</th>\n",
       "      <th>split</th>\n",
       "    </tr>\n",
       "  </thead>\n",
       "  <tbody>\n",
       "    <tr>\n",
       "      <th>Men</th>\n",
       "      <td>0.23</td>\n",
       "      <td>0.27</td>\n",
       "      <td>0.12</td>\n",
       "      <td>0.36</td>\n",
       "      <td>0.02</td>\n",
       "      <td>+2%</td>\n",
       "    </tr>\n",
       "    <tr>\n",
       "      <th>Women</th>\n",
       "      <td>0.23</td>\n",
       "      <td>0.26</td>\n",
       "      <td>0.15</td>\n",
       "      <td>0.32</td>\n",
       "      <td>0.04</td>\n",
       "      <td>+2%</td>\n",
       "    </tr>\n",
       "    <tr>\n",
       "      <th>Black</th>\n",
       "      <td>0.55</td>\n",
       "      <td>0.31</td>\n",
       "      <td>0.05</td>\n",
       "      <td>0.06</td>\n",
       "      <td>0.03</td>\n",
       "      <td>+75%</td>\n",
       "    </tr>\n",
       "    <tr>\n",
       "      <th>Hispanic</th>\n",
       "      <td>0.32</td>\n",
       "      <td>0.35</td>\n",
       "      <td>0.11</td>\n",
       "      <td>0.17</td>\n",
       "      <td>0.05</td>\n",
       "      <td>+39%</td>\n",
       "    </tr>\n",
       "    <tr>\n",
       "      <th>White</th>\n",
       "      <td>0.17</td>\n",
       "      <td>0.25</td>\n",
       "      <td>0.15</td>\n",
       "      <td>0.39</td>\n",
       "      <td>0.03</td>\n",
       "      <td>-12%</td>\n",
       "    </tr>\n",
       "    <tr>\n",
       "      <th>White non-Hispanic</th>\n",
       "      <td>0.16</td>\n",
       "      <td>0.25</td>\n",
       "      <td>0.15</td>\n",
       "      <td>0.41</td>\n",
       "      <td>0.03</td>\n",
       "      <td>-15%</td>\n",
       "    </tr>\n",
       "    <tr>\n",
       "      <th>White American [any]</th>\n",
       "      <td>0.16</td>\n",
       "      <td>0.24</td>\n",
       "      <td>0.16</td>\n",
       "      <td>0.41</td>\n",
       "      <td>0.04</td>\n",
       "      <td>-17%</td>\n",
       "    </tr>\n",
       "    <tr>\n",
       "      <th>White American [most]</th>\n",
       "      <td>0.15</td>\n",
       "      <td>0.23</td>\n",
       "      <td>0.15</td>\n",
       "      <td>0.43</td>\n",
       "      <td>0.04</td>\n",
       "      <td>-20%</td>\n",
       "    </tr>\n",
       "    <tr>\n",
       "      <th>White German [any]</th>\n",
       "      <td>0.14</td>\n",
       "      <td>0.25</td>\n",
       "      <td>0.17</td>\n",
       "      <td>0.42</td>\n",
       "      <td>0.02</td>\n",
       "      <td>-20%</td>\n",
       "    </tr>\n",
       "    <tr>\n",
       "      <th>White German [most]</th>\n",
       "      <td>0.13</td>\n",
       "      <td>0.22</td>\n",
       "      <td>0.16</td>\n",
       "      <td>0.47</td>\n",
       "      <td>0.02</td>\n",
       "      <td>-28%</td>\n",
       "    </tr>\n",
       "    <tr>\n",
       "      <th>White English [any]</th>\n",
       "      <td>0.18</td>\n",
       "      <td>0.22</td>\n",
       "      <td>0.19</td>\n",
       "      <td>0.39</td>\n",
       "      <td>0.02</td>\n",
       "      <td>-18%</td>\n",
       "    </tr>\n",
       "    <tr>\n",
       "      <th>White English [most]</th>\n",
       "      <td>0.18</td>\n",
       "      <td>0.22</td>\n",
       "      <td>0.19</td>\n",
       "      <td>0.39</td>\n",
       "      <td>0.02</td>\n",
       "      <td>-18%</td>\n",
       "    </tr>\n",
       "    <tr>\n",
       "      <th>White Scottish [any]</th>\n",
       "      <td>0.15</td>\n",
       "      <td>0.24</td>\n",
       "      <td>0.15</td>\n",
       "      <td>0.43</td>\n",
       "      <td>0.03</td>\n",
       "      <td>-19%</td>\n",
       "    </tr>\n",
       "    <tr>\n",
       "      <th>White Scottish [most]</th>\n",
       "      <td>0.16</td>\n",
       "      <td>0.28</td>\n",
       "      <td>0.17</td>\n",
       "      <td>0.38</td>\n",
       "      <td>0.02</td>\n",
       "      <td>-11%</td>\n",
       "    </tr>\n",
       "    <tr>\n",
       "      <th>White Irish [any]</th>\n",
       "      <td>0.17</td>\n",
       "      <td>0.25</td>\n",
       "      <td>0.16</td>\n",
       "      <td>0.4</td>\n",
       "      <td>0.02</td>\n",
       "      <td>-14%</td>\n",
       "    </tr>\n",
       "    <tr>\n",
       "      <th>White Irish [most]</th>\n",
       "      <td>0.2</td>\n",
       "      <td>0.24</td>\n",
       "      <td>0.18</td>\n",
       "      <td>0.36</td>\n",
       "      <td>0.02</td>\n",
       "      <td>-10%</td>\n",
       "    </tr>\n",
       "    <tr>\n",
       "      <th>White Italian [any]</th>\n",
       "      <td>0.14</td>\n",
       "      <td>0.26</td>\n",
       "      <td>0.19</td>\n",
       "      <td>0.39</td>\n",
       "      <td>0.02</td>\n",
       "      <td>-18%</td>\n",
       "    </tr>\n",
       "    <tr>\n",
       "      <th>White Italian [most]</th>\n",
       "      <td>0.14</td>\n",
       "      <td>0.26</td>\n",
       "      <td>0.17</td>\n",
       "      <td>0.41</td>\n",
       "      <td>0.02</td>\n",
       "      <td>-18%</td>\n",
       "    </tr>\n",
       "  </tbody>\n",
       "</table>\n",
       "</div>"
      ],
      "text/plain": [
       "nr2_label             Strongly Approve Somewhat Approve Somewhat Disapprove  \\\n",
       "Men                               0.23             0.27                0.12   \n",
       "Women                             0.23             0.26                0.15   \n",
       "Black                             0.55             0.31                0.05   \n",
       "Hispanic                          0.32             0.35                0.11   \n",
       "White                             0.17             0.25                0.15   \n",
       "White non-Hispanic                0.16             0.25                0.15   \n",
       "White American [any]              0.16             0.24                0.16   \n",
       "White American [most]             0.15             0.23                0.15   \n",
       "White German [any]                0.14             0.25                0.17   \n",
       "White German [most]               0.13             0.22                0.16   \n",
       "White English [any]               0.18             0.22                0.19   \n",
       "White English [most]              0.18             0.22                0.19   \n",
       "White Scottish [any]              0.15             0.24                0.15   \n",
       "White Scottish [most]             0.16             0.28                0.17   \n",
       "White Irish [any]                 0.17             0.25                0.16   \n",
       "White Irish [most]                 0.2             0.24                0.18   \n",
       "White Italian [any]               0.14             0.26                0.19   \n",
       "White Italian [most]              0.14             0.26                0.17   \n",
       "\n",
       "nr2_label             Strongly Disapprove Don’t Know / No Opinion split  \n",
       "Men                                  0.36                    0.02   +2%  \n",
       "Women                                0.32                    0.04   +2%  \n",
       "Black                                0.06                    0.03  +75%  \n",
       "Hispanic                             0.17                    0.05  +39%  \n",
       "White                                0.39                    0.03  -12%  \n",
       "White non-Hispanic                   0.41                    0.03  -15%  \n",
       "White American [any]                 0.41                    0.04  -17%  \n",
       "White American [most]                0.43                    0.04  -20%  \n",
       "White German [any]                   0.42                    0.02  -20%  \n",
       "White German [most]                  0.47                    0.02  -28%  \n",
       "White English [any]                  0.39                    0.02  -18%  \n",
       "White English [most]                 0.39                    0.02  -18%  \n",
       "White Scottish [any]                 0.43                    0.03  -19%  \n",
       "White Scottish [most]                0.38                    0.02  -11%  \n",
       "White Irish [any]                     0.4                    0.02  -14%  \n",
       "White Irish [most]                   0.36                    0.02  -10%  \n",
       "White Italian [any]                  0.39                    0.02  -18%  \n",
       "White Italian [most]                 0.41                    0.02  -18%  "
      ]
     },
     "execution_count": 29,
     "metadata": {},
     "output_type": "execute_result"
    }
   ],
   "source": [
    "pd.DataFrame({ k: get_obama_weighted_splits(v.groupby(\"nr2_label\"))\n",
    "    for k, v in demographic_groups.items() }).T\\\n",
    "    .loc[list(demographic_groups.keys())]"
   ]
  },
  {
   "cell_type": "markdown",
   "metadata": {},
   "source": [
    "## White German-ancestry vs. all White non-Hispanic demographics"
   ]
  },
  {
   "cell_type": "code",
   "execution_count": 30,
   "metadata": {
    "collapsed": true
   },
   "outputs": [],
   "source": [
    "def summarize_demog(df):\n",
    "    calc = lambda x: x[\"wts\"].sum() / df[\"wts\"].sum()\n",
    "    return {\n",
    "        \"prop_seniors\": calc(df[df[\"is_senior\"]]),\n",
    "        \"prop_protestant\": calc(df[df[\"is_protestant\"]]),\n",
    "        \"prop_rural\": calc(df[df[\"demUsr\"] == 3])\n",
    "    }"
   ]
  },
  {
   "cell_type": "code",
   "execution_count": 31,
   "metadata": {
    "collapsed": false
   },
   "outputs": [
    {
     "data": {
      "text/html": [
       "<div>\n",
       "<table border=\"1\" class=\"dataframe\">\n",
       "  <thead>\n",
       "    <tr style=\"text-align: right;\">\n",
       "      <th></th>\n",
       "      <th>White non-Hispanic</th>\n",
       "      <th>White German [any]</th>\n",
       "      <th>White German [most]</th>\n",
       "    </tr>\n",
       "  </thead>\n",
       "  <tbody>\n",
       "    <tr>\n",
       "      <th>prop_protestant</th>\n",
       "      <td>0.30</td>\n",
       "      <td>0.34</td>\n",
       "      <td>0.39</td>\n",
       "    </tr>\n",
       "    <tr>\n",
       "      <th>prop_rural</th>\n",
       "      <td>0.31</td>\n",
       "      <td>0.31</td>\n",
       "      <td>0.33</td>\n",
       "    </tr>\n",
       "    <tr>\n",
       "      <th>prop_seniors</th>\n",
       "      <td>0.25</td>\n",
       "      <td>0.23</td>\n",
       "      <td>0.29</td>\n",
       "    </tr>\n",
       "  </tbody>\n",
       "</table>\n",
       "</div>"
      ],
      "text/plain": [
       "                 White non-Hispanic  White German [any]  White German [most]\n",
       "prop_protestant                0.30                0.34                 0.39\n",
       "prop_rural                     0.31                0.31                 0.33\n",
       "prop_seniors                   0.25                0.23                 0.29"
      ]
     },
     "execution_count": 31,
     "metadata": {},
     "output_type": "execute_result"
    }
   ],
   "source": [
    "pd.DataFrame({ k: summarize_demog(v) for k, v in demographic_groups.items() }).round(2)\\\n",
    "    [[ \"White non-Hispanic\", \"White German [any]\", \"White German [most]\"]]"
   ]
  },
  {
   "cell_type": "markdown",
   "metadata": {},
   "source": [
    "---\n",
    "\n",
    "---\n",
    "\n",
    "---"
   ]
  }
 ],
 "metadata": {
  "kernelspec": {
   "display_name": "Python 3",
   "language": "python",
   "name": "python3"
  },
  "language_info": {
   "codemirror_mode": {
    "name": "ipython",
    "version": 3
   },
   "file_extension": ".py",
   "mimetype": "text/x-python",
   "name": "python",
   "nbconvert_exporter": "python",
   "pygments_lexer": "ipython3",
   "version": "3.4.3"
  }
 },
 "nbformat": 4,
 "nbformat_minor": 0
}
